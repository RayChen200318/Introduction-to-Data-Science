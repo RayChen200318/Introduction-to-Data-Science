{
 "cells": [
  {
   "cell_type": "markdown",
   "id": "8afc14ec-c82e-4fa0-98c6-32f6ef9786c8",
   "metadata": {},
   "source": [
    "1. **Array Creation**: Create a 1D NumPy array containing the numbers from 0 to 9. Then reshape it into a 2D array with 2 rows and 5 columns."
   ]
  },
  {
   "cell_type": "markdown",
   "id": "9a60634e-c1b2-47d2-8e5d-56d08dac8fbc",
   "metadata": {},
   "source": [
    "2. **Array Operations**: Given two NumPy arrays `a = np.array([1, 2, 3])` and `b = np.array([4, 5, 6])`, perform the following operations:\n",
    "   - Add the two arrays.\n",
    "   - Multiply the two arrays element-wise.\n",
    "   - Find the dot product of the two arrays."
   ]
  },
  {
   "cell_type": "markdown",
   "id": "c32a0147-dfe0-4181-bac2-0399e27ac2a1",
   "metadata": {},
   "source": [
    "\n",
    "3. **Statistical Functions**: Create a NumPy array of 100 random numbers between 0 and 1. Calculate the mean, median, and standard deviation of the array."
   ]
  },
  {
   "cell_type": "markdown",
   "id": "7d609e30-2f06-43d3-a4f0-3350d1344be0",
   "metadata": {},
   "source": [
    "4. **Boolean Indexing**: Create a NumPy array of integers from 1 to 20. Use boolean indexing to extract all even numbers from the array."
   ]
  },
  {
   "cell_type": "markdown",
   "id": "05b07a75-d673-4fc3-9996-50cf90b08f56",
   "metadata": {},
   "source": [
    "5. **Matrix Operations**: Create two 2D NumPy arrays (3x3) and perform matrix multiplication. Verify the result using the `np.dot()` function.\n"
   ]
  },
  {
   "cell_type": "markdown",
   "id": "fa9b580b-2f1c-4c30-a8e5-97f73c711e1a",
   "metadata": {},
   "source": [
    "### pandas Problems"
   ]
  },
  {
   "cell_type": "markdown",
   "id": "5d84a950-7248-4c35-91d6-10497a2b79a4",
   "metadata": {},
   "source": [
    "6. **DataFrame Creation**: Create a pandas DataFrame from a dictionary containing the following data:\n",
    "   ```python\n",
    "   data = {\n",
    "       'Name': ['Alice', 'Bob', 'Charlie'],\n",
    "       'Age': [25, 30, 35],\n",
    "       'City': ['New York', 'Los Angeles', 'Chicago']\n",
    "   }\n",
    "   ```\n",
    "   Display the DataFrame.\n"
   ]
  },
  {
   "cell_type": "markdown",
   "id": "79d9a7eb-af9b-4fa8-b16b-0a2c03f2f3a6",
   "metadata": {},
   "source": [
    "7. **DataFrame Indexing**: Using the DataFrame created in the previous problem, select the 'Name' and 'City' columns and display the result."
   ]
  },
  {
   "cell_type": "markdown",
   "id": "79dc16d3-bccc-4da6-b5a0-98751e157b08",
   "metadata": {},
   "source": [
    "8. **Filtering Data**: Given the following DataFrame:\n",
    "   ```python\n",
    "   import pandas as pd\n",
    "\n",
    "   data = {\n",
    "       'Product': ['A', 'B', 'C', 'D'],\n",
    "       'Price': [100, 150, 200, 250],\n",
    "       'Stock': [30, 20, 0, 15]\n",
    "   }\n",
    "   df = pd.DataFrame(data)\n",
    "   ```\n",
    "   Filter the DataFrame to show only products that are in stock (Stock > 0)."
   ]
  },
  {
   "cell_type": "markdown",
   "id": "67eb8009-502c-47eb-9520-371625e10de9",
   "metadata": {},
   "source": [
    "9. **Group By**: Create a DataFrame with the following data:\n",
    "   ```python\n",
    "   data = {\n",
    "       'Team': ['A', 'A', 'B', 'B', 'C', 'C'],\n",
    "       'Points': [10, 20, 15, 25, 30, 10]\n",
    "   }\n",
    "   ```\n",
    "   Group the DataFrame by 'Team' and calculate the total points for each team."
   ]
  },
  {
   "cell_type": "markdown",
   "id": "e49257f9-e510-4e7c-929a-fcce76a794d9",
   "metadata": {},
   "source": [
    "10. **CSV File Handling**: Write a pandas DataFrame to a CSV file named `students.csv` with the following data:\n",
    "    ```python\n",
    "    data = {\n",
    "        'Student': ['John', 'Jane', 'Doe'],\n",
    "        'Score': [85, 90, 78]\n",
    "    }\n",
    "    ```\n",
    "    Then read the CSV file back into a DataFrame and display it.\n"
   ]
  },
  {
   "cell_type": "code",
   "execution_count": 1,
   "id": "27addea7-fa4f-4388-8f69-3091252f744d",
   "metadata": {},
   "outputs": [
    {
     "name": "stdout",
     "output_type": "stream",
     "text": [
      "Original array:\n",
      "[0 1 2 3 4 5 6 7 8 9]\n",
      "Reshape 2D array:\n",
      "[[0 1 2 3 4]\n",
      " [5 6 7 8 9]]\n"
     ]
    }
   ],
   "source": [
    "# Q1\n",
    "import numpy as np\n",
    "a = np.arange(10)\n",
    "print(\"Original array:\")\n",
    "print(a)\n",
    "a = np.reshape(a, (2, 5))\n",
    "print(\"Reshape 2D array:\")\n",
    "print(a)"
   ]
  },
  {
   "cell_type": "code",
   "execution_count": 3,
   "id": "431fff30",
   "metadata": {},
   "outputs": [
    {
     "name": "stdout",
     "output_type": "stream",
     "text": [
      "Original array:\n",
      "[1 2 3]\n",
      "[4 5 6]\n",
      "Addition of the two arrays:\n",
      "[5 7 9]\n",
      "Multiplication of the two arrays:\n",
      "[ 4 10 18]\n",
      "Dot product of the two arrays:\n",
      "32\n"
     ]
    }
   ],
   "source": [
    "# Q2\n",
    "a = np.array([1, 2, 3])\n",
    "b = np.array([4, 5, 6])\n",
    "print(\"Original array:\")\n",
    "print(a)\n",
    "print(b)\n",
    "result = a + b\n",
    "print(\"Addition of the two arrays:\")\n",
    "print(result)\n",
    "result = a * b\n",
    "print(\"Multiplication of the two arrays:\")\n",
    "print(result)\n",
    "result = np.dot(a, b)\n",
    "print(\"Dot product of the two arrays:\")\n",
    "print(result)"
   ]
  },
  {
   "cell_type": "code",
   "execution_count": 4,
   "id": "95f2df1c",
   "metadata": {},
   "outputs": [
    {
     "name": "stdout",
     "output_type": "stream",
     "text": [
      "Original array:\n",
      "[0.93382528 0.9727282  0.68909883 0.5583841  0.65229428 0.37512243\n",
      " 0.97900757 0.64937875 0.58108161 0.36666113 0.64936642 0.03073597\n",
      " 0.90554821 0.06903146 0.3950992  0.77564722 0.47775688 0.87837689\n",
      " 0.25892941 0.62390509 0.04032899 0.70413097 0.90488326 0.31894745\n",
      " 0.44123616 0.18295533 0.56365775 0.26419489 0.52249047 0.27380921\n",
      " 0.03131525 0.63842938 0.27713993 0.50186737 0.50516296 0.66400401\n",
      " 0.70862403 0.71223307 0.4185174  0.06494611 0.71002316 0.56550431\n",
      " 0.39372674 0.9600923  0.29939573 0.66236185 0.8327485  0.07599675\n",
      " 0.00567923 0.24226533 0.77304877 0.43047418 0.90445471 0.06027427\n",
      " 0.76936956 0.77850102 0.62610999 0.59075273 0.62263751 0.57978459\n",
      " 0.85538242 0.59594762 0.26485479 0.0086032  0.97260967 0.74343181\n",
      " 0.37672667 0.77444531 0.56612153 0.78906206 0.39498916 0.56393764\n",
      " 0.54990449 0.90575327 0.15808597 0.36015591 0.83542832 0.0598791\n",
      " 0.97955181 0.05757588 0.67935631 0.85854614 0.57408449 0.89059091\n",
      " 0.3294192  0.70957532 0.17705118 0.60853508 0.04492208 0.15843703\n",
      " 0.60694727 0.78640954 0.87910513 0.9248456  0.10215916 0.4460485\n",
      " 0.39893741 0.52582949 0.12865621 0.40199045]\n",
      "Mean: 0.5248794729258839\n",
      "Median: 0.5658129212198386\n",
      "Standard Deviation: 0.28195157800491977\n"
     ]
    }
   ],
   "source": [
    "# Q3\n",
    "a = np.random.rand(100)\n",
    "print(\"Original array:\")\n",
    "print(a)\n",
    "mean = np.mean(a)\n",
    "print(\"Mean:\", mean)\n",
    "median = np.median(a)\n",
    "print(\"Median:\", median)\n",
    "std = np.std(a)\n",
    "print(\"Standard Deviation:\", std)"
   ]
  },
  {
   "cell_type": "code",
   "execution_count": 5,
   "id": "da786ba7",
   "metadata": {},
   "outputs": [
    {
     "name": "stdout",
     "output_type": "stream",
     "text": [
      "Original array:\n",
      "[ 1  2  3  4  5  6  7  8  9 10 11 12 13 14 15 16 17 18 19 20]\n",
      "Extracted even numbers:\n",
      "[ 2  4  6  8 10 12 14 16 18 20]\n"
     ]
    }
   ],
   "source": [
    "# Q4\n",
    "a = np.arange(1, 21)\n",
    "print(\"Original array:\")\n",
    "print(a)\n",
    "result = a[a % 2 == 0]\n",
    "print(\"Extracted even numbers:\")\n",
    "print(result)"
   ]
  },
  {
   "cell_type": "code",
   "execution_count": 6,
   "id": "348c89c0",
   "metadata": {},
   "outputs": [
    {
     "name": "stdout",
     "output_type": "stream",
     "text": [
      "First array:\n",
      "[[5 1 5]\n",
      " [5 6 3]\n",
      " [2 5 5]]\n",
      "Second array:\n",
      "[[4 3 8]\n",
      " [3 4 1]\n",
      " [1 6 3]]\n",
      "Matrix multiplication:\n",
      "[[28 49 56]\n",
      " [41 57 55]\n",
      " [28 56 36]]\n",
      "Matrix multiplication:\n",
      "[[28 49 56]\n",
      " [41 57 55]\n",
      " [28 56 36]]\n"
     ]
    }
   ],
   "source": [
    "# Q5\n",
    "a = np.random.randint(1, 10, (3, 3))\n",
    "b = np.random.randint(1, 10, (3, 3))\n",
    "print(\"First array:\")\n",
    "print(a)\n",
    "print(\"Second array:\")\n",
    "print(b)\n",
    "result = np.matmul(a, b)\n",
    "print(\"Matrix multiplication:\")\n",
    "print(result)\n",
    "result = np.dot(a, b)\n",
    "print(\"Matrix multiplication:\")\n",
    "print(result)"
   ]
  },
  {
   "cell_type": "code",
   "execution_count": 7,
   "id": "8ccc53f4",
   "metadata": {},
   "outputs": [
    {
     "name": "stdout",
     "output_type": "stream",
     "text": [
      "      Name  Age         City\n",
      "0    Alice   25     New York\n",
      "1      Bob   30  Los Angeles\n",
      "2  Charlie   35      Chicago\n"
     ]
    }
   ],
   "source": [
    "# Q6\n",
    "import pandas as pd\n",
    "data = {\n",
    "    'Name': ['Alice', 'Bob', 'Charlie'],\n",
    "    'Age': [25, 30, 35],\n",
    "    'City': ['New York', 'Los Angeles', 'Chicago']\n",
    "}\n",
    "df = pd.DataFrame(data)\n",
    "print(df)"
   ]
  },
  {
   "cell_type": "code",
   "execution_count": 8,
   "id": "e7b324b9",
   "metadata": {},
   "outputs": [
    {
     "name": "stdout",
     "output_type": "stream",
     "text": [
      "Selecting Name and City columns:\n",
      "      Name         City\n",
      "0    Alice     New York\n",
      "1      Bob  Los Angeles\n",
      "2  Charlie      Chicago\n"
     ]
    }
   ],
   "source": [
    "# Q7\n",
    "print(\"Selecting Name and City columns:\")\n",
    "print(df[['Name', 'City']])"
   ]
  },
  {
   "cell_type": "code",
   "execution_count": 9,
   "id": "a00a9df6",
   "metadata": {},
   "outputs": [
    {
     "name": "stdout",
     "output_type": "stream",
     "text": [
      "Original DataFrame:\n",
      "  Product  Price  Stock\n",
      "0       A    100     30\n",
      "1       B    150     20\n",
      "2       C    200      0\n",
      "3       D    250     15\n",
      "Products in stock:\n",
      "  Product  Price  Stock\n",
      "0       A    100     30\n",
      "1       B    150     20\n",
      "3       D    250     15\n"
     ]
    }
   ],
   "source": [
    "# Q8\n",
    "data = {\n",
    "    'Product': ['A', 'B', 'C', 'D'],\n",
    "    'Price': [100, 150, 200, 250],\n",
    "    'Stock': [30, 20, 0, 15]\n",
    "}\n",
    "df = pd.DataFrame(data)\n",
    "print(\"Original DataFrame:\")\n",
    "print(df)\n",
    "result = df[df['Stock'] > 0]\n",
    "print(\"Products in stock:\")\n",
    "print(result)"
   ]
  },
  {
   "cell_type": "code",
   "execution_count": 10,
   "id": "74daa264",
   "metadata": {},
   "outputs": [
    {
     "name": "stdout",
     "output_type": "stream",
     "text": [
      "Original DataFrame:\n",
      "  Team  Points\n",
      "0    A      10\n",
      "1    A      20\n",
      "2    B      15\n",
      "3    B      25\n",
      "4    C      30\n",
      "5    C      10\n",
      "Total points by team:\n",
      "      Points\n",
      "Team        \n",
      "A         30\n",
      "B         40\n",
      "C         40\n"
     ]
    }
   ],
   "source": [
    "# Q9\n",
    "data = {\n",
    "    'Team': ['A', 'A', 'B', 'B', 'C', 'C'],\n",
    "    'Points': [10, 20, 15, 25, 30, 10]\n",
    "}\n",
    "df = pd.DataFrame(data)\n",
    "print(\"Original DataFrame:\")\n",
    "print(df)\n",
    "result = df.groupby('Team').sum()\n",
    "print(\"Total points by team:\")\n",
    "print(result)"
   ]
  },
  {
   "cell_type": "code",
   "execution_count": 11,
   "id": "ae2b6a96",
   "metadata": {},
   "outputs": [
    {
     "name": "stdout",
     "output_type": "stream",
     "text": [
      "DataFrame from CSV:\n",
      "  Student  Score\n",
      "0    John     85\n",
      "1    Jane     90\n",
      "2     Doe     78\n"
     ]
    }
   ],
   "source": [
    "# Q10\n",
    "data = {\n",
    "    'Student': ['John', 'Jane', 'Doe'],\n",
    "    'Score': [85, 90, 78]\n",
    "}\n",
    "df = pd.DataFrame(data)\n",
    "df.to_csv('students.csv', index=False)\n",
    "df = pd.read_csv('students.csv')\n",
    "print(\"DataFrame from CSV:\")\n",
    "print(df)"
   ]
  }
 ],
 "metadata": {
  "kernelspec": {
   "display_name": "Python 3 (ipykernel)",
   "language": "python",
   "name": "python3"
  },
  "language_info": {
   "codemirror_mode": {
    "name": "ipython",
    "version": 3
   },
   "file_extension": ".py",
   "mimetype": "text/x-python",
   "name": "python",
   "nbconvert_exporter": "python",
   "pygments_lexer": "ipython3",
   "version": "3.11.9"
  }
 },
 "nbformat": 4,
 "nbformat_minor": 5
}
